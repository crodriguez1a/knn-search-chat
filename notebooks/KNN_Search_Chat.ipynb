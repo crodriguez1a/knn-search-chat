{
 "cells": [
  {
   "cell_type": "code",
   "execution_count": 1,
   "metadata": {
    "cellView": "code",
    "colab": {
     "base_uri": "https://localhost:8080/",
     "height": 54
    },
    "colab_type": "code",
    "id": "JMyTNwSJGGWg",
    "outputId": "48719b6f-6772-4584-c17a-5b9355bd469a"
   },
   "outputs": [
    {
     "data": {
      "text/plain": [
       "'\\nCopyright 2019 Carlos Rodriguez\\n\\nLicensed under the Apache License, Version 2.0 (the \"License\");\\nyou may not use this file except in compliance with the License.\\nYou may obtain a copy of the License at\\n\\n    http://www.apache.org/licenses/LICENSE-2.0\\n\\nUnless required by applicable law or agreed to in writing, software\\ndistributed under the License is distributed on an \"AS IS\" BASIS,\\nWITHOUT WARRANTIES OR CONDITIONS OF ANY KIND, either express or implied.\\nSee the License for the specific language governing permissions and\\nlimitations under the License.\\n'"
      ]
     },
     "execution_count": 1,
     "metadata": {},
     "output_type": "execute_result"
    }
   ],
   "source": [
    "\"\"\"\n",
    "Copyright 2019 Carlos Rodriguez\n",
    "\n",
    "Licensed under the Apache License, Version 2.0 (the \"License\");\n",
    "you may not use this file except in compliance with the License.\n",
    "You may obtain a copy of the License at\n",
    "\n",
    "    http://www.apache.org/licenses/LICENSE-2.0\n",
    "\n",
    "Unless required by applicable law or agreed to in writing, software\n",
    "distributed under the License is distributed on an \"AS IS\" BASIS,\n",
    "WITHOUT WARRANTIES OR CONDITIONS OF ANY KIND, either express or implied.\n",
    "See the License for the specific language governing permissions and\n",
    "limitations under the License.\n",
    "\"\"\""
   ]
  },
  {
   "cell_type": "markdown",
   "metadata": {
    "colab_type": "text",
    "id": "co7MV6sX7Xto"
   },
   "source": [
    "# How to build a Q&A Chat-bot from Scratch using the Universal Sentence Encoder and KNN Vector Search\n"
   ]
  },
  {
   "cell_type": "markdown",
   "metadata": {
    "colab_type": "text",
    "id": "pOTzp8O36CyQ"
   },
   "source": [
    "# Getting Started\n",
    "\n",
    "libraries, etc."
   ]
  },
  {
   "cell_type": "code",
   "execution_count": 2,
   "metadata": {
    "colab": {},
    "colab_type": "code",
    "id": "lVjNK8shFKOC"
   },
   "outputs": [],
   "source": [
    "# Install the latest Tensorflow version.\n",
    "!pip3 install --quiet \"tensorflow>=2.0\"\n",
    "# Install TF-Hub.\n",
    "!pip3 install --quiet tensorflow-hub\n",
    "!pip3 install --quiet nmslib"
   ]
  },
  {
   "cell_type": "code",
   "execution_count": 18,
   "metadata": {
    "colab": {},
    "colab_type": "code",
    "id": "MSeY-MUQo2Ha"
   },
   "outputs": [],
   "source": [
    "import tensorflow as tf\n",
    "import tensorflow_hub as hub\n",
    "import numpy as np\n",
    "import os\n",
    "import nmslib\n",
    "\n",
    "import time\n",
    "import sys\n",
    "import datetime\n",
    "import random"
   ]
  },
  {
   "cell_type": "code",
   "execution_count": 4,
   "metadata": {
    "colab": {},
    "colab_type": "code",
    "id": "yBJ_eQZKw9f0"
   },
   "outputs": [],
   "source": [
    "# USENC_2 = \"https://tfhub.dev/google/universal-sentence-encoder/2\"\n",
    "# USENC_LITE2 = \"https://tfhub.dev/google/universal-sentence-encoder-lite/2\"\n",
    "USENC_4 = \"https://tfhub.dev/google/universal-sentence-encoder-large/4\"\n",
    "\n",
    "def load_encoder(module_url:str) -> hub.module.Module:\n",
    "    return hub.load(module_url)\n",
    "\n",
    "def encode(embed: hub.module.Module, messages: list) -> np.ndarray:\n",
    "    return embed(messages)[\"outputs\"]\n",
    "\n",
    "def create_index(embeddings: np.ndarray, method: str='hnsw') -> nmslib.dist.FloatIndex:\n",
    "    \"\"\"\n",
    "    Ref: https://github.com/nmslib/nmslib/blob/master/manual/methods.md\n",
    "    \"\"\"\n",
    "    # initialize a new index, using a HNSW index on Cosine Similarity\n",
    "    search_index: nmslib.dist.FloatIndex = nmslib.init(method=method, space='cosinesimil')\n",
    "    search_index.addDataPointBatch(embeddings)\n",
    "    search_index.createIndex({'post': 2}, print_progress=True)\n",
    "\n",
    "    return search_index\n",
    "\n",
    "def search(query_vector: np.ndarray, n_results:int = 3) -> tuple:\n",
    "    idx, dist = search_index.knnQuery(query_vector, k=n_results)\n",
    "    return (idx, dist)"
   ]
  },
  {
   "cell_type": "code",
   "execution_count": 6,
   "metadata": {
    "colab": {
     "base_uri": "https://localhost:8080/",
     "height": 34
    },
    "colab_type": "code",
    "id": "c5W5X4Gt2J4W",
    "outputId": "7a30ceec-6250-4499-f5e4-cd0ce48833e9"
   },
   "outputs": [
    {
     "name": "stdout",
     "output_type": "stream",
     "text": [
      "Loading encoder...\n"
     ]
    }
   ],
   "source": [
    "# load encoder module\n",
    "print(\"Loading encoder...\")\n",
    "embed: hub.module.Module = load_encoder(USENC_4)"
   ]
  },
  {
   "cell_type": "code",
   "execution_count": 9,
   "metadata": {
    "colab": {},
    "colab_type": "code",
    "id": "DUzGa_-Y2H61"
   },
   "outputs": [],
   "source": [
    "# sample bot\n",
    "qna: dict = {\n",
    "    'queries' : {\n",
    "        \"favorite baseball team\" : \"fav_baseball\",\n",
    "        \"best baseball team\" : \"fav_baseball\",\n",
    "        \"favorite basketball team\": \"fav_basketball\",\n",
    "        \"best basketball team\": \"fav_basketball\",\n",
    "        \"grew up\": \"hometown\",\n",
    "        \"hometown\": \"hometown\",\n",
    "        \"grow up\": \"hometown\"\n",
    "      },\n",
    "\n",
    "      'answers' : {\n",
    "          'fav_baseball': [\"NY Yankees, obviously\", \"have to say...Yankees\"],\n",
    "          'fav_basketball': [\"Grew up in the Jordan era...Bulls\", \"Bulls\", \"Chicago\"],\n",
    "          'hometown': [\"South Norwalk\", \"Connecticut\", \"Southern Connecticut right outside of NY\"]\n",
    "      }\n",
    "}"
   ]
  },
  {
   "cell_type": "code",
   "execution_count": 10,
   "metadata": {
    "colab": {},
    "colab_type": "code",
    "id": "1RgiZEszQ1vb"
   },
   "outputs": [],
   "source": [
    "def update_search_index(embed, queries: list) -> nmslib.dist.FloatIndex:\n",
    "    # encode queries\n",
    "    print('Encoding bot data...')\n",
    "    query_embeddings: np.ndarray = encode(embed, queries)\n",
    "\n",
    "    return create_index(query_embeddings)"
   ]
  },
  {
   "cell_type": "code",
   "execution_count": 11,
   "metadata": {
    "colab": {},
    "colab_type": "code",
    "id": "QH1GLdwP2Szl"
   },
   "outputs": [],
   "source": [
    "# assemble possible queries\n",
    "queries: list = list(qna['queries'].keys())"
   ]
  },
  {
   "cell_type": "code",
   "execution_count": 12,
   "metadata": {
    "colab": {
     "base_uri": "https://localhost:8080/",
     "height": 409
    },
    "colab_type": "code",
    "id": "vqOX3OEk2Sw3",
    "outputId": "7d7cee5d-ea7c-4b02-c81c-3681392b1be7"
   },
   "outputs": [
    {
     "name": "stdout",
     "output_type": "stream",
     "text": [
      "Encoding bot data...\n"
     ]
    }
   ],
   "source": [
    "# re-create search index\n",
    "search_index: nmslib.dist.FloatIndex = update_search_index(embed, queries)"
   ]
  },
  {
   "cell_type": "code",
   "execution_count": 36,
   "metadata": {
    "colab": {},
    "colab_type": "code",
    "id": "B6ptMmEsScXj"
   },
   "outputs": [],
   "source": [
    "# credit https://gist.github.com/Y4suyuki/6805818\n",
    "def bubbles(pause: int):\n",
    "    animation = \"|/-\\\\\"\n",
    "\n",
    "    for i in range(pause):\n",
    "        time.sleep(0.1)\n",
    "        sys.stdout.write(\"\\r\" + animation[i % len(animation)])\n",
    "        sys.stdout.flush()\n"
   ]
  },
  {
   "cell_type": "code",
   "execution_count": 39,
   "metadata": {
    "colab": {},
    "colab_type": "code",
    "id": "0UMmjjj1RoXf"
   },
   "outputs": [],
   "source": [
    "def chat(message: str) -> str:\n",
    "    bubbles(10)\n",
    "    \n",
    "    # encode query\n",
    "    vectory_query = encode(embed, [message])\n",
    "    \n",
    "    # get search results\n",
    "    idx, dist = search(vectory_query)\n",
    "\n",
    "    # traverse to answer\n",
    "    if idx.any():\n",
    "      search_result = queries[idx[0]]\n",
    "      answer_key = qna['queries'][search_result]\n",
    "      answer = qna['answers'][answer_key]\n",
    "      \n",
    "      print(\"\\n\", random.choice(answer), end=\"\")\n"
   ]
  },
  {
   "cell_type": "code",
   "execution_count": 40,
   "metadata": {
    "colab": {
     "base_uri": "https://localhost:8080/",
     "height": 344
    },
    "colab_type": "code",
    "id": "skOxUYZR2Y2m",
    "outputId": "8bbc1dfb-a974-426d-9e1d-22f95f1ed294"
   },
   "outputs": [
    {
     "name": "stdout",
     "output_type": "stream",
     "text": [
      "-\n",
      " NY Yankees, obviously"
     ]
    }
   ],
   "source": [
    "chat(\"What's your favorite baseball team?\")"
   ]
  },
  {
   "cell_type": "code",
   "execution_count": 41,
   "metadata": {
    "colab": {
     "base_uri": "https://localhost:8080/",
     "height": 68
    },
    "colab_type": "code",
    "id": "9U2r8xmTYDDc",
    "outputId": "c4ff428d-fdb0-44e7-f545-4bccf0a01ea5"
   },
   "outputs": [
    {
     "name": "stdout",
     "output_type": "stream",
     "text": [
      "-\n",
      " Connecticut"
     ]
    }
   ],
   "source": [
    "chat(\"Where did you grow up?\")"
   ]
  },
  {
   "cell_type": "code",
   "execution_count": null,
   "metadata": {},
   "outputs": [],
   "source": []
  }
 ],
 "metadata": {
  "colab": {
   "collapsed_sections": [],
   "machine_shape": "hm",
   "name": "KNN-Search-Chat",
   "provenance": []
  },
  "kernelspec": {
   "display_name": "Python 3",
   "language": "python",
   "name": "python3"
  },
  "language_info": {
   "codemirror_mode": {
    "name": "ipython",
    "version": 3
   },
   "file_extension": ".py",
   "mimetype": "text/x-python",
   "name": "python",
   "nbconvert_exporter": "python",
   "pygments_lexer": "ipython3",
   "version": "3.7.5"
  }
 },
 "nbformat": 4,
 "nbformat_minor": 1
}
