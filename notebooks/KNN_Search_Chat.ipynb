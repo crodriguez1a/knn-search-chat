{
  "nbformat": 4,
  "nbformat_minor": 0,
  "metadata": {
    "colab": {
      "name": "KNN_Search_Chat.ipynb",
      "provenance": [],
      "collapsed_sections": [],
      "machine_shape": "hm"
    },
    "kernelspec": {
      "display_name": "Python 3",
      "language": "python",
      "name": "python3"
    },
    "language_info": {
      "codemirror_mode": {
        "name": "ipython",
        "version": 3
      },
      "file_extension": ".py",
      "mimetype": "text/x-python",
      "name": "python",
      "nbconvert_exporter": "python",
      "pygments_lexer": "ipython3",
      "version": "3.7.5"
    }
  },
  "cells": [
    {
      "cell_type": "markdown",
      "metadata": {
        "id": "1mZr1lkhkwQ-",
        "colab_type": "text"
      },
      "source": [
        "Apache License"
      ]
    },
    {
      "cell_type": "code",
      "metadata": {
        "cellView": "code",
        "colab_type": "code",
        "id": "JMyTNwSJGGWg",
        "outputId": "8209fa81-50c7-4cf6-b925-45ae2624c92c",
        "colab": {
          "base_uri": "https://localhost:8080/",
          "height": 54
        }
      },
      "source": [
        "'\\nCopyright 2019 Carlos Rodriguez\\n\\nLicensed under the Apache License, Version 2.0 (the \"License\");\\nyou may not use this file except in compliance with the License.\\nYou may obtain a copy of the License at\\n\\n    http://www.apache.org/licenses/LICENSE-2.0\\n\\nUnless required by applicable law or agreed to in writing, software\\ndistributed under the License is distributed on an \"AS IS\" BASIS,\\nWITHOUT WARRANTIES OR CONDITIONS OF ANY KIND, either express or implied.\\nSee the License for the specific language governing permissions and\\nlimitations under the License.\\n'"
      ],
      "execution_count": 16,
      "outputs": [
        {
          "output_type": "execute_result",
          "data": {
            "text/plain": [
              "'\\nCopyright 2019 Carlos Rodriguez\\n\\nLicensed under the Apache License, Version 2.0 (the \"License\");\\nyou may not use this file except in compliance with the License.\\nYou may obtain a copy of the License at\\n\\n    http://www.apache.org/licenses/LICENSE-2.0\\n\\nUnless required by applicable law or agreed to in writing, software\\ndistributed under the License is distributed on an \"AS IS\" BASIS,\\nWITHOUT WARRANTIES OR CONDITIONS OF ANY KIND, either express or implied.\\nSee the License for the specific language governing permissions and\\nlimitations under the License.\\n'"
            ]
          },
          "metadata": {
            "tags": []
          },
          "execution_count": 16
        }
      ]
    },
    {
      "cell_type": "markdown",
      "metadata": {
        "colab_type": "text",
        "id": "co7MV6sX7Xto"
      },
      "source": [
        "# Writing a Q&A Chat-bot from scratch using the Universal Sentence Encoder and KNN Vector Search\n",
        "\n",
        "This tutorial experiments with using semantic textual similarity and neighborhood search to map natural language questions to answers.\n"
      ]
    },
    {
      "cell_type": "markdown",
      "metadata": {
        "colab_type": "text",
        "id": "pOTzp8O36CyQ"
      },
      "source": [
        "First, let's make sure Google Colab is running tf2"
      ]
    },
    {
      "cell_type": "code",
      "metadata": {
        "id": "BfAc7VsxkI82",
        "colab_type": "code",
        "colab": {
          "base_uri": "https://localhost:8080/",
          "height": 34
        },
        "outputId": "7e916588-b23e-4365-bfe5-ff846c48a665"
      },
      "source": [
        "try:\n",
        "  # %tensorflow_version only exists in Colab.\n",
        "  %tensorflow_version 2.x\n",
        "except Exception:\n",
        "  pass"
      ],
      "execution_count": 3,
      "outputs": [
        {
          "output_type": "stream",
          "text": [
            "TensorFlow 2.x selected.\n"
          ],
          "name": "stdout"
        }
      ]
    },
    {
      "cell_type": "markdown",
      "metadata": {
        "id": "8JiyE5Nsk_Xu",
        "colab_type": "text"
      },
      "source": [
        "Install the [NMSLib](https://github.com/nmslib/nmslib) library. NMSLib is an efficient similarity search library and a toolkit for evaluation of k-NN methods for generic non-metric spaces."
      ]
    },
    {
      "cell_type": "code",
      "metadata": {
        "colab_type": "code",
        "id": "lVjNK8shFKOC",
        "colab": {}
      },
      "source": [
        "\n",
        "!pip3 install --quiet nmslib"
      ],
      "execution_count": 0,
      "outputs": []
    },
    {
      "cell_type": "markdown",
      "metadata": {
        "id": "JHEzX652ldA7",
        "colab_type": "text"
      },
      "source": [
        "Importing dependencies"
      ]
    },
    {
      "cell_type": "code",
      "metadata": {
        "colab_type": "code",
        "id": "MSeY-MUQo2Ha",
        "colab": {}
      },
      "source": [
        "import tensorflow as tf\n",
        "import tensorflow_hub as hub\n",
        "import numpy as np\n",
        "import nmslib\n",
        "\n",
        "import os\n",
        "import time\n",
        "import sys\n",
        "import datetime\n",
        "import random\n",
        "from dataclasses import dataclass, asdict"
      ],
      "execution_count": 0,
      "outputs": []
    },
    {
      "cell_type": "markdown",
      "metadata": {
        "id": "Wr7MKidOl3_c",
        "colab_type": "text"
      },
      "source": [
        "We'll leverage version 4 of Google's Universal Sentence Encoder. The `universal-sentence-encoder-large` model is trained with a Transformer encoder and is optimized for sentences towards tasks like semantic similarity, classification, and clustering."
      ]
    },
    {
      "cell_type": "code",
      "metadata": {
        "id": "1VK_gYKBZJSn",
        "colab_type": "code",
        "colab": {}
      },
      "source": [
        "# initialize encoder\n",
        "USENC_4: str = \"https://tfhub.dev/google/universal-sentence-encoder-large/4\"\n",
        "encoder: hub.module.Module = hub.load(USENC_4)"
      ],
      "execution_count": 0,
      "outputs": []
    },
    {
      "cell_type": "markdown",
      "metadata": {
        "id": "l_txsuIosshT",
        "colab_type": "text"
      },
      "source": [
        "Let's create some atomic functions that define our encoder and search index."
      ]
    },
    {
      "cell_type": "code",
      "metadata": {
        "colab_type": "code",
        "id": "yBJ_eQZKw9f0",
        "colab": {}
      },
      "source": [
        "\"\"\"Encoder\"\"\"\n",
        "\n",
        "# extract embeddings as numpy array\n",
        "def encode(messages: list, encoder: hub.module.Module=encoder) -> np.ndarray:\n",
        "    return encoder(messages)[\"outputs\"]\n",
        "\n",
        "\"\"\"Search\"\"\"\n",
        "\n",
        "# initialize a search index\n",
        "def create_index(embeddings: np.ndarray, method: str='hnsw') -> nmslib.dist.FloatIndex:\n",
        "    # ref: https://github.com/nmslib/nmslib/blob/master/manual/methods.md\n",
        "\n",
        "    # initialize a new index, using a HNSW index on Cosine Similarity\n",
        "    search_index: nmslib.dist.FloatIndex = nmslib.init(method=method, space='cosinesimil')\n",
        "    search_index.addDataPointBatch(embeddings)\n",
        "    search_index.createIndex({'post': 2}, print_progress=True)\n",
        "\n",
        "    return search_index\n",
        "\n",
        "# perform a knn search\n",
        "def search(query_vector: np.ndarray, search_index: nmslib.dist.FloatIndex, n_results:int = 3) -> tuple:\n",
        "    idx, dist = search_index.knnQuery(query_vector, k=n_results)\n",
        "    return (idx, dist)"
      ],
      "execution_count": 0,
      "outputs": []
    },
    {
      "cell_type": "markdown",
      "metadata": {
        "id": "AyVEuam8sO0Y",
        "colab_type": "text"
      },
      "source": [
        "Let's a create a simple Q&A bot that defines a few sample questions and their corresponding answers. "
      ]
    },
    {
      "cell_type": "code",
      "metadata": {
        "id": "LvgsxiZbZfTM",
        "colab_type": "code",
        "colab": {}
      },
      "source": [
        "\"\"\"Bot\"\"\"\n",
        "\n",
        "@dataclass\n",
        "class QABot:\n",
        "    queries: dict\n",
        "    answers: dict\n",
        "\n",
        "    @property\n",
        "    def keyphrases(self) -> list:\n",
        "        return list(self.queries.keys())\n"
      ],
      "execution_count": 0,
      "outputs": []
    },
    {
      "cell_type": "markdown",
      "metadata": {
        "id": "akvBT6EWZszk",
        "colab_type": "text"
      },
      "source": [
        "Now we can seed our bot with some data."
      ]
    },
    {
      "cell_type": "code",
      "metadata": {
        "colab_type": "code",
        "id": "DUzGa_-Y2H61",
        "colab": {}
      },
      "source": [
        "# provide some sample key phrases\n",
        "sample_queries: dict = {\n",
        "    \"favorite baseball team\": \"fav_baseball\",\n",
        "    \"best baseball team\": \"fav_baseball\",\n",
        "    \"favorite basketball team\": \"fav_basketball\",\n",
        "    \"best basketball team\": \"fav_basketball\",\n",
        "    \"best NBA team\": \"fav_basketball\",\n",
        "    \"grew up\": \"hometown\",\n",
        "    \"hometown\": \"hometown\",\n",
        "    \"grow up\": \"hometown\"\n",
        "}\n",
        "\n",
        "# provide some answers\n",
        "answers: dict = {\n",
        "    'fav_baseball': [\"NY Yankees, obviously\", \"have to say...Yankees\"],\n",
        "    'fav_basketball': [\"Grew up in the Jordan era...Bulls\", \"Bulls\", \"Chicago\"],\n",
        "    'hometown': [\"South Norwalk, CT\", \"Connecticut\", \"Southern Connecticut right outside of NY\"]\n",
        "}\n",
        "\n",
        "qa_bot: dict = QABot(sample_queries, answers)"
      ],
      "execution_count": 0,
      "outputs": []
    },
    {
      "cell_type": "markdown",
      "metadata": {
        "id": "3sibAA3XAX15",
        "colab_type": "text"
      },
      "source": [
        "Whenever we update the seed data, we'll want to re-create a search index."
      ]
    },
    {
      "cell_type": "code",
      "metadata": {
        "colab_type": "code",
        "id": "vqOX3OEk2Sw3",
        "colab": {}
      },
      "source": [
        "# re-create the search index anytime new data is added to the bot \n",
        "keyphrase_embeddings: np.ndarray = encode(qa_bot.keyphrases)\n",
        "search_index: nmslib.dist.FloatIndex = create_index(keyphrase_embeddings)"
      ],
      "execution_count": 0,
      "outputs": []
    },
    {
      "cell_type": "markdown",
      "metadata": {
        "id": "fbIg6mWmZoP1",
        "colab_type": "text"
      },
      "source": [
        "Now, let's create a simple chat interface."
      ]
    },
    {
      "cell_type": "code",
      "metadata": {
        "id": "jSxmTYVPZmlf",
        "colab_type": "code",
        "colab": {}
      },
      "source": [
        "\"\"\"Chat Interface\"\"\"\n",
        "\n",
        "def _bubbles(pause: int):\n",
        "    # credit https://gist.github.com/Y4suyuki/6805818\n",
        "    animation = \"|/-\\\\\"\n",
        "\n",
        "    for i in range(pause):\n",
        "        time.sleep(0.1)\n",
        "        sys.stdout.write(\"\\r\" + animation[i % len(animation)])\n",
        "        sys.stdout.flush()\n",
        "\n",
        "def chat(message: str, bot: QABot=qa_bot, search_index: nmslib.dist.FloatIndex=search_index):\n",
        "    # delay animation\n",
        "    _bubbles(5)\n",
        "\n",
        "    # encode query\n",
        "    vectory_query: np.ndarray = encode([message])\n",
        "\n",
        "    # get search results\n",
        "    idx, dist = search(vectory_query, search_index)\n",
        "\n",
        "    # traverse to the first answer\n",
        "    if idx.any():\n",
        "        if dist[0] < 0.75:\n",
        "            # match the search result index to a corresponding key-phrase\n",
        "            search_result: str = bot.keyphrases[idx[0]]\n",
        "\n",
        "            # use the plain text key-phrase to map to an answer\n",
        "            answer_key: str = bot.queries[search_result]\n",
        "            answer: str = bot.answers[answer_key]\n",
        "\n",
        "            # randomize the answer for variety\n",
        "            return random.choice(answer)\n",
        "        else:\n",
        "            return \"Sorry, I don't have an answer for that.\" # TODO no english"
      ],
      "execution_count": 0,
      "outputs": []
    },
    {
      "cell_type": "code",
      "metadata": {
        "colab_type": "code",
        "id": "skOxUYZR2Y2m",
        "outputId": "f111498a-0951-4216-ccbc-40270b8590cb",
        "colab": {
          "base_uri": "https://localhost:8080/",
          "height": 34
        }
      },
      "source": [
        "chat(\"What's your favorite baseball team?\")"
      ],
      "execution_count": 217,
      "outputs": [
        {
          "output_type": "stream",
          "text": [
            "|"
          ],
          "name": "stdout"
        },
        {
          "output_type": "execute_result",
          "data": {
            "text/plain": [
              "'NY Yankees, obviously'"
            ]
          },
          "metadata": {
            "tags": []
          },
          "execution_count": 217
        }
      ]
    },
    {
      "cell_type": "code",
      "metadata": {
        "colab_type": "code",
        "id": "9U2r8xmTYDDc",
        "outputId": "7d914662-831f-4e2b-b49f-96b1a4b05546",
        "colab": {
          "base_uri": "https://localhost:8080/",
          "height": 34
        }
      },
      "source": [
        "chat(\"Where did you grow up?\")"
      ],
      "execution_count": 212,
      "outputs": [
        {
          "output_type": "stream",
          "text": [
            "|"
          ],
          "name": "stdout"
        },
        {
          "output_type": "execute_result",
          "data": {
            "text/plain": [
              "'South Norwalk, CT'"
            ]
          },
          "metadata": {
            "tags": []
          },
          "execution_count": 212
        }
      ]
    },
    {
      "cell_type": "code",
      "metadata": {
        "id": "QVUCDtY8jrsW",
        "colab_type": "code",
        "colab": {
          "base_uri": "https://localhost:8080/",
          "height": 34
        },
        "outputId": "eaff77f9-0502-47cb-9eb3-d7e5c0a4c29d"
      },
      "source": [
        "chat(\"Where's your hometown'?\")"
      ],
      "execution_count": 213,
      "outputs": [
        {
          "output_type": "stream",
          "text": [
            "|"
          ],
          "name": "stdout"
        },
        {
          "output_type": "execute_result",
          "data": {
            "text/plain": [
              "'South Norwalk, CT'"
            ]
          },
          "metadata": {
            "tags": []
          },
          "execution_count": 213
        }
      ]
    },
    {
      "cell_type": "code",
      "metadata": {
        "id": "AC4xvg-2w3_A",
        "colab_type": "code",
        "colab": {
          "base_uri": "https://localhost:8080/",
          "height": 34
        },
        "outputId": "5dde3bbb-b086-4b07-9ec2-5307b2633216"
      },
      "source": [
        "chat(\"What's the best team in the NBA?\")"
      ],
      "execution_count": 214,
      "outputs": [
        {
          "output_type": "stream",
          "text": [
            "|"
          ],
          "name": "stdout"
        },
        {
          "output_type": "execute_result",
          "data": {
            "text/plain": [
              "'Grew up in the Jordan era...Bulls'"
            ]
          },
          "metadata": {
            "tags": []
          },
          "execution_count": 214
        }
      ]
    },
    {
      "cell_type": "code",
      "metadata": {
        "id": "vxANz2YCw_sl",
        "colab_type": "code",
        "colab": {
          "base_uri": "https://localhost:8080/",
          "height": 34
        },
        "outputId": "1db1d5e9-2055-46aa-9f2a-21f8841ab76c"
      },
      "source": [
        "chat(\"what's the weather?\")"
      ],
      "execution_count": 218,
      "outputs": [
        {
          "output_type": "stream",
          "text": [
            "|"
          ],
          "name": "stdout"
        },
        {
          "output_type": "execute_result",
          "data": {
            "text/plain": [
              "\"Sorry, I don't have an answer for that.\""
            ]
          },
          "metadata": {
            "tags": []
          },
          "execution_count": 218
        }
      ]
    },
    {
      "cell_type": "code",
      "metadata": {
        "id": "u1m2ylLS46_Q",
        "colab_type": "code",
        "colab": {}
      },
      "source": [
        ""
      ],
      "execution_count": 0,
      "outputs": []
    }
  ]
}